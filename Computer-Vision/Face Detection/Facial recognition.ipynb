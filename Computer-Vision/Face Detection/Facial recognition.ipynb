{
 "cells": [
  {
   "cell_type": "markdown",
   "metadata": {},
   "source": [
    "## Face Recognition – Unlock Your Computer With Your Face!"
   ]
  },
  {
   "cell_type": "markdown",
   "metadata": {},
   "source": [
    "### Step 1 - Importing alert modules"
   ]
  },
  {
   "cell_type": "code",
   "execution_count": null,
   "metadata": {},
   "outputs": [],
   "source": [
    "import email_sender as es\n",
    "import sms_sender\n",
    "import whatsapp_send as ws\n",
    "import aws_cli \n",
    "def alert(photos,c):\n",
    "    date = datetime.datetime.now() \n",
    "    t = time.localtime()\n",
    "    current_time = time.strftime(\"%H-%M-%S\", t)\n",
    "    To = \"anshshrivas26@gmail.com\"\n",
    "    Subject = \"Face Detetcted !!\"\n",
    "    Message = f\"Encountered Timestamp : {date}\"\n",
    "    filename = []\n",
    "    c+=1\n",
    "    print(c)\n",
    "    for photo in photos:\n",
    "        img= f\"{current_time}.jpg\"\n",
    "        filename.append(img)\n",
    "        print(filename)\n",
    "        cv2.imwrite(img,photo)\n",
    "#     sms_sender.sendsms()\n",
    "#     es.send_email(To,Subject,Message,filename)\n",
    "#     aws_cli.aws_automation()\n",
    "    ws.send_what(date)\n",
    "    return c"
   ]
  },
  {
   "cell_type": "markdown",
   "metadata": {},
   "source": [
    "###  Capture photo streams from video "
   ]
  },
  {
   "cell_type": "code",
   "execution_count": 1,
   "metadata": {},
   "outputs": [
    {
     "name": "stderr",
     "output_type": "stream",
     "text": [
      "<>:16: SyntaxWarning: \"is\" with a literal. Did you mean \"==\"?\n",
      "<>:16: SyntaxWarning: \"is\" with a literal. Did you mean \"==\"?\n",
      "<ipython-input-1-8b9ed123d499>:16: SyntaxWarning: \"is\" with a literal. Did you mean \"==\"?\n",
      "  if faces is ():\n"
     ]
    },
    {
     "name": "stdout",
     "output_type": "stream",
     "text": [
      "Face not found\n",
      "Face not found\n",
      "Face not found\n",
      "Face not found\n",
      "Collecting Samples Complete\n"
     ]
    }
   ],
   "source": [
    "import cv2\n",
    "import numpy as np\n",
    "import time\n",
    "\n",
    "# Load HAAR face classifier\n",
    "face_classifier = cv2.CascadeClassifier('haarcascade_frontalface_default.xml')\n",
    "\n",
    "# Load functions\n",
    "def face_extractor(img):\n",
    "    # Function detects faces and returns the cropped face\n",
    "    # If no face detected, it returns the input image\n",
    "    \n",
    "    gray = cv2.cvtColor(img,cv2.COLOR_BGR2GRAY)\n",
    "    faces = face_classifier.detectMultiScale(gray, 1.3, 5)\n",
    "    \n",
    "    if faces is ():\n",
    "        return None\n",
    "    \n",
    "    # Crop all faces found\n",
    "    for (x,y,w,h) in faces:\n",
    "        cropped_face = img[y:y+h, x:x+w]\n",
    "\n",
    "    return cropped_face\n",
    "\n",
    "# Initialize Webcam\n",
    "index=0\n",
    "cap = cv2.VideoCapture(index)\n",
    "count = 0\n",
    "\n",
    "# Collect 400 samples of your face from webcam input\n",
    "# time.sleep(50)\n",
    "while True:\n",
    "\n",
    "    ret, frame = cap.read()\n",
    "    if face_extractor(frame) is not None:\n",
    "        count += 1\n",
    "        face = cv2.resize(face_extractor(frame), (200, 200))\n",
    "        face = cv2.cvtColor(face, cv2.COLOR_BGR2GRAY)\n",
    "\n",
    "        # Save file in specified directory with unique name\n",
    "        file_name_path = './faces/user/' + str(count) + '.jpg'\n",
    "        cv2.imwrite(file_name_path, face)\n",
    "\n",
    "        # Put count on images and display live count\n",
    "        cv2.putText(face, str(count), (50, 50), cv2.FONT_HERSHEY_COMPLEX, 1, (0,255,0), 2)\n",
    "        cv2.imshow('Face Cropper', face)\n",
    "        \n",
    "    else:\n",
    "        print(\"Face not found\")\n",
    "        pass\n",
    "\n",
    "    if cv2.waitKey(1) == 13 or count == 100: #13 is the Enter Key\n",
    "        break\n",
    "        \n",
    "cap.release()\n",
    "cv2.destroyAllWindows()      \n",
    "print(\"Collecting Samples Complete\")"
   ]
  },
  {
   "cell_type": "markdown",
   "metadata": {},
   "source": [
    "### Step 2 - Train Model"
   ]
  },
  {
   "cell_type": "code",
   "execution_count": null,
   "metadata": {},
   "outputs": [],
   "source": [
    "# cap.release()"
   ]
  },
  {
   "cell_type": "code",
   "execution_count": 2,
   "metadata": {},
   "outputs": [
    {
     "name": "stdout",
     "output_type": "stream",
     "text": [
      "Model trained sucessefully\n"
     ]
    }
   ],
   "source": [
    "import cv2\n",
    "import numpy as np\n",
    "from os import listdir\n",
    "from os.path import isfile, join\n",
    "\n",
    "# Get the training data we previously made\n",
    "data_path = './faces/user/'\n",
    "onlyfiles = [f for f in listdir(data_path) if isfile(join(data_path, f))]\n",
    "\n",
    "# Create arrays for training data and labels\n",
    "Training_Data, Labels = [], []\n",
    "\n",
    "# Open training images in our datapath\n",
    "# Create a numpy array for training data\n",
    "for i, files in enumerate(onlyfiles):\n",
    "    image_path = data_path + onlyfiles[i]\n",
    "    images = cv2.imread(image_path, cv2.IMREAD_GRAYSCALE)\n",
    "    Training_Data.append(np.asarray(images, dtype=np.uint8))\n",
    "    Labels.append(i)\n",
    "\n",
    "# Create a numpy array for both training data and labels\n",
    "Labels = np.asarray(Labels, dtype=np.int32)\n",
    "\n",
    "# Initialize facial recognizer\n",
    "# model = cv2.face.createLBPHFaceRecognizer()\n",
    "# NOTE: For OpenCV 3.0 use cv2.face.createLBPHFaceRecognizer()\n",
    "# pip install opencv-contrib-python\n",
    "# model = cv2.createLBPHFaceRecognizer()\n",
    "\n",
    "vimal_model  = cv2.face_LBPHFaceRecognizer.create()\n",
    "# Let's train our model \n",
    "vimal_model.train(np.asarray(Training_Data), np.asarray(Labels))\n",
    "print(\"Model trained sucessefully\")\n"
   ]
  },
  {
   "cell_type": "markdown",
   "metadata": {},
   "source": [
    "### Step 3 - Run Our Facial Recognition"
   ]
  },
  {
   "cell_type": "code",
   "execution_count": 3,
   "metadata": {},
   "outputs": [
    {
     "name": "stderr",
     "output_type": "stream",
     "text": [
      "<>:41: SyntaxWarning: \"is\" with a literal. Did you mean \"==\"?\n",
      "<>:41: SyntaxWarning: \"is\" with a literal. Did you mean \"==\"?\n",
      "<ipython-input-3-0c10d11a0d07>:41: SyntaxWarning: \"is\" with a literal. Did you mean \"==\"?\n",
      "  if faces is ():\n"
     ]
    },
    {
     "name": "stdout",
     "output_type": "stream",
     "text": [
      "1\n",
      "0\n",
      "In the count1\n",
      "1\n",
      "['19-59-46.jpg']\n",
      "Messaged successfully !!\n",
      "######## Alert system !! ########\n",
      " \n",
      "Image uploaded successfully\n",
      "\n",
      "Starting the SMTP server\n",
      "\n",
      "Loggedin to server\n",
      "\n",
      "sending messages\n",
      "\n",
      "Exiting mail sender\n",
      "Launching instances\n",
      "Launched Instance\n",
      "creating volume\n",
      "Successfully,created volume\n",
      "{'AttachTime': datetime.datetime(2021, 6, 21, 14, 33, 7, 54000, tzinfo=tzutc()), 'Device': '/dev/sdm', 'InstanceId': 'i-036b25abc1a6f653b', 'State': 'attaching', 'VolumeId': 'vol-058b880116ee67b24', 'ResponseMetadata': {'RequestId': '96038681-e0e2-462e-b94d-7390a3a2437e', 'HTTPStatusCode': 200, 'HTTPHeaders': {'x-amzn-requestid': '96038681-e0e2-462e-b94d-7390a3a2437e', 'cache-control': 'no-cache, no-store', 'strict-transport-security': 'max-age=31536000; includeSubDomains', 'content-type': 'text/xml;charset=UTF-8', 'content-length': '410', 'date': 'Mon, 21 Jun 2021 14:33:06 GMT', 'server': 'AmazonEC2'}, 'RetryAttempts': 0}}\n",
      "1\n"
     ]
    }
   ],
   "source": [
    "import cv2\n",
    "import numpy as np\n",
    "import os\n",
    "#############################################################\n",
    "import time\n",
    "import datetime\n",
    "import email_sender as es\n",
    "import sms_sender\n",
    "import whatsapp_send as ws\n",
    "import aws_cli \n",
    "def alert(photos,c):\n",
    "    date = datetime.datetime.now() \n",
    "    t = time.localtime()\n",
    "    current_time = time.strftime(\"%H-%M-%S\", t)\n",
    "    To = \"anshshrivas26@gmail.com\"\n",
    "    Subject = \"Face Detetcted !!\"\n",
    "    Message = f\"Encountered Timestamp : {date}\"\n",
    "    filename = []\n",
    "    c+=1\n",
    "    print(c)\n",
    "    for photo in photos:\n",
    "        img= f\"{current_time}.jpg\"\n",
    "        filename.append(img)\n",
    "        print(filename)\n",
    "        cv2.imwrite(img,photo)\n",
    "    sms_sender.sendsms()\n",
    "    es.send_email(To,Subject,Message,filename)\n",
    "    aws_cli.aws_automation()\n",
    "    ws.send_what(date)\n",
    "    return c\n",
    "\n",
    "#############################################################################\n",
    "face_classifier = cv2.CascadeClassifier('haarcascade_frontalface_default.xml')\n",
    "\n",
    "def face_detector(img, size=0.5):\n",
    "    \n",
    "    # Convert image to grayscale\n",
    "    gray = cv2.cvtColor(img,cv2.COLOR_BGR2GRAY)\n",
    "    faces = face_classifier.detectMultiScale(img, 1.3, 5)\n",
    "    print(len(faces))\n",
    "    if faces is ():\n",
    "        return img, []\n",
    "    \n",
    "    \n",
    "    for (x,y,w,h) in faces:\n",
    "        cv2.rectangle(img,(x,y),(x+w,y+h),(0,255,255),2)\n",
    "        roi = img[y:y+h, x:x+w]\n",
    "        roi = cv2.resize(roi, (200, 200))\n",
    "    return img, roi\n",
    "\n",
    "# Open Webcam\n",
    "cap = cv2.VideoCapture(0)\n",
    "photos=[]\n",
    "c = 0\n",
    "while True:\n",
    "\n",
    "    ret, frame = cap.read()\n",
    "    \n",
    "    image, face = face_detector(frame)\n",
    "  \n",
    "    face = cv2.cvtColor(face, cv2.COLOR_BGR2GRAY)\n",
    "\n",
    "    # Pass face to prediction model\n",
    "    # \"results\" comprises of a tuple containing the label and the confidence value\n",
    "    results = vimal_model.predict(face)\n",
    "    # harry_model.predict(face)\n",
    "\n",
    "    if results[1] < 500:\n",
    "\n",
    "        confidence = int( 100 * (1 - (results[1])/400) )\n",
    "        display_string = str(confidence) + '% Confident it is User'\n",
    "\n",
    "    cv2.putText(image, display_string, (100, 120), cv2.FONT_HERSHEY_COMPLEX, 1, (255,120,150), 2)\n",
    "\n",
    "    if confidence >= 90 :\n",
    "        cv2.putText(image, \"Hey Ansh\", (250, 450), cv2.FONT_HERSHEY_COMPLEX, 1, (0,255,0), 2)\n",
    "        cv2.imshow('Face Recognition', image )\n",
    "        if c == 0:\n",
    "            photos.append(image)\n",
    "            print(c)\n",
    "            print(\"In the count1\")\n",
    "            c = alert(photos,c)\n",
    "            print(c)\n",
    "        cv2.imshow('Face Recognition', image )\n",
    "        cap.release()\n",
    "        break\n",
    "    else:\n",
    "        cv2.putText(image, \"I dont know, who r u\", (250, 450), cv2.FONT_HERSHEY_COMPLEX, 1, (0,0,255), 2)\n",
    "        cv2.imshow('Face Recognition', image )\n",
    "\n",
    "#     except Exception as e:\n",
    "#         cv2.putText(image, \"No Face Found\", (220, 120) , cv2.FONT_HERSHEY_COMPLEX, 1, (0,0,255), 2)\n",
    "#         cv2.putText(image, \"looking for face\", (250, 450), cv2.FONT_HERSHEY_COMPLEX, 1, (0,0,255), 2)\n",
    "#         cv2.imshow('Face Recognition', image )\n",
    "# #         print(e)\n",
    "#         pass\n",
    "        \n",
    "    if cv2.waitKey(1) == 13: #13 is the Enter Key\n",
    "        break\n",
    "        \n",
    "cap.release()\n",
    "cv2.destroyAllWindows()     "
   ]
  },
  {
   "cell_type": "code",
   "execution_count": null,
   "metadata": {},
   "outputs": [],
   "source": [
    "cap.release()"
   ]
  },
  {
   "cell_type": "code",
   "execution_count": null,
   "metadata": {},
   "outputs": [],
   "source": []
  }
 ],
 "metadata": {
  "kernelspec": {
   "display_name": "Python 3",
   "language": "python",
   "name": "python3"
  },
  "language_info": {
   "codemirror_mode": {
    "name": "ipython",
    "version": 3
   },
   "file_extension": ".py",
   "mimetype": "text/x-python",
   "name": "python",
   "nbconvert_exporter": "python",
   "pygments_lexer": "ipython3",
   "version": "3.8.8"
  }
 },
 "nbformat": 4,
 "nbformat_minor": 1
}
