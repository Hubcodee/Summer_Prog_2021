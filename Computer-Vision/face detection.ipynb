{
 "cells": [
  {
   "cell_type": "code",
   "execution_count": null,
   "metadata": {},
   "outputs": [],
   "source": [
    "import cv2\n",
    "import datetime\n",
    "import time\n",
    "\n",
    "\n",
    "# t = time.localtime()\n",
    "# current_time = time.strftime(\"%H-%M-%S\", t)\n",
    "\n",
    "#mailer module\n",
    "import email_sender as es\n",
    "import sms_sender\n"
   ]
  },
  {
   "cell_type": "code",
   "execution_count": 2,
   "metadata": {},
   "outputs": [],
   "source": [
    "cap = cv2.VideoCapture(0)"
   ]
  },
  {
   "cell_type": "code",
   "execution_count": 3,
   "metadata": {},
   "outputs": [],
   "source": [
    "#Loading haarcascade frontal face model\n",
    "model = cv2.CascadeClassifier('haarcascade_frontalface_default.xml')"
   ]
  },
  {
   "cell_type": "code",
   "execution_count": 4,
   "metadata": {},
   "outputs": [],
   "source": [
    "def alert(photos,count):\n",
    "    date = datetime.datetime.now() \n",
    "    t = time.localtime()\n",
    "    current_time = time.strftime(\"%H-%M-%S\", t)\n",
    "    To = \"anshshrivas26@gmail.com\"\n",
    "    Subject = \"Face Detetcted !!\"\n",
    "    Message = f\"Encountered Timestamp : {date}\"\n",
    "    filename = []\n",
    "    count+=1\n",
    "#     print(count)\n",
    "    for photo in photos:\n",
    "        img= f\"{current_time}.jpg\"\n",
    "        filename.append(img)\n",
    "        print(filename)\n",
    "        cv2.imwrite(img,photo)\n",
    "    sms_sender.sendsms()\n",
    "    es.send_email(To,Subject,Message,filename)\n",
    "    return count"
   ]
  },
  {
   "cell_type": "code",
   "execution_count": 5,
   "metadata": {
    "scrolled": true
   },
   "outputs": [
    {
     "name": "stdout",
     "output_type": "stream",
     "text": [
      "['20-34-23.jpg']\n",
      "Messaged successfully !!\n",
      "######## Alert system !! ########\n",
      " \n",
      "Image uploaded successfully\n",
      "\n",
      "Starting the SMTP server\n",
      "\n",
      "Loggedin to server\n",
      "\n",
      "sending messages\n",
      "\n",
      "Exiting mail sender\n"
     ]
    }
   ],
   "source": [
    "photos=[]\n",
    "count = 0\n",
    "while True:\n",
    "    date = datetime.datetime.now() \n",
    "    #reading captured photo\n",
    "    ret,photo = cap.read()\n",
    "    #face detection\n",
    "    faces = model.detectMultiScale(photo)\n",
    "    if len(faces) != 0:\n",
    "        for i in faces:\n",
    "            x1=i[0]\n",
    "            y1=i[1]\n",
    "            x2=x1+i[2]\n",
    "            y2=y1+i[3]\n",
    "        cv2.rectangle(photo,(x1,y1),(x2,y2),[225,0,0],3)\n",
    "        photo = cv2.putText(photo, f'{date}', (80,30), cv2.FONT_HERSHEY_DUPLEX, \n",
    "                   1, [255,255,255], 2)\n",
    "        photos.append(photo)\n",
    "    if count == 0:\n",
    "        count = alert(photos,count)\n",
    "    cv2.imshow('Live stream',photo) \n",
    "    if cv2.waitKey(10) == 27:\n",
    "        cap.release()\n",
    "        break\n",
    "cv2.destroyAllWindows()"
   ]
  },
  {
   "cell_type": "code",
   "execution_count": null,
   "metadata": {},
   "outputs": [],
   "source": [
    "cap.release()\n"
   ]
  },
  {
   "cell_type": "code",
   "execution_count": null,
   "metadata": {},
   "outputs": [],
   "source": [
    "#code for : same face detected more than one time dont notify / alert\n",
    "\n",
    "# photos=[]\n",
    "# store=[]\n",
    "# count = 0\n",
    "# while True:\n",
    "#     ret,photo = cap.read()\n",
    "#     #face detection\n",
    "#     faces = model.detectMultiScale(photo)\n",
    "#     if len(faces) != 0:\n",
    "#         for i in faces:\n",
    "#             print(i)\n",
    "#             x1=i[0]\n",
    "#             y1=i[1]\n",
    "#             x2=x1+i[2]\n",
    "#             y2=y1+i[3]\n",
    "#             cut = photo[x1:x2, y1:y2]\n",
    "#             cv2.rectangle(photo,(x1,y1),(x2,y2),[225,0,0],3)\n",
    "# #             if len(store) == 0:\n",
    "# #                 store.append(cut)\n",
    "# #                 photos.append(photo)\n",
    "# #                 count = alert(photos,count)\n",
    "# #             elif cut not in store:\n",
    "# #                 count = 0\n",
    "# #                 if count == 0:\n",
    "# #                     photos.append(photo)\n",
    "# #                     count = alert(photos,count)\n",
    "# #         print(\"Cuts :\",store)\n",
    "# #         cv2.rectangle(photo,(x1,y1),(x2,y2),[225,0,0],3)\n",
    "#         cv2.imshow('Live stream',photo) \n",
    "#     if cv2.waitKey(10) == 27:\n",
    "#         cap.release()\n",
    "#         break\n",
    "# cv2.destroyAllWindows()"
   ]
  },
  {
   "cell_type": "code",
   "execution_count": null,
   "metadata": {},
   "outputs": [],
   "source": []
  },
  {
   "cell_type": "code",
   "execution_count": null,
   "metadata": {},
   "outputs": [],
   "source": []
  }
 ],
 "metadata": {
  "kernelspec": {
   "display_name": "Python 3",
   "language": "python",
   "name": "python3"
  },
  "language_info": {
   "codemirror_mode": {
    "name": "ipython",
    "version": 3
   },
   "file_extension": ".py",
   "mimetype": "text/x-python",
   "name": "python",
   "nbconvert_exporter": "python",
   "pygments_lexer": "ipython3",
   "version": "3.8.8"
  }
 },
 "nbformat": 4,
 "nbformat_minor": 4
}
